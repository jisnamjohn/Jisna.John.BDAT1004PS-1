{
 "cells": [
  {
   "cell_type": "markdown",
   "id": "be7daec4",
   "metadata": {},
   "source": [
    "# Question 1"
   ]
  },
  {
   "cell_type": "code",
   "execution_count": 1,
   "id": "6e76cdc2",
   "metadata": {},
   "outputs": [
    {
     "data": {
      "text/plain": [
       "int"
      ]
     },
     "execution_count": 1,
     "metadata": {},
     "output_type": "execute_result"
    }
   ],
   "source": [
    "type(5)"
   ]
  },
  {
   "cell_type": "code",
   "execution_count": 2,
   "id": "2f69a8d8",
   "metadata": {},
   "outputs": [
    {
     "data": {
      "text/plain": [
       "float"
      ]
     },
     "execution_count": 2,
     "metadata": {},
     "output_type": "execute_result"
    }
   ],
   "source": [
    "type(5.0)"
   ]
  },
  {
   "cell_type": "code",
   "execution_count": 3,
   "id": "617d8e2e",
   "metadata": {},
   "outputs": [
    {
     "data": {
      "text/plain": [
       "bool"
      ]
     },
     "execution_count": 3,
     "metadata": {},
     "output_type": "execute_result"
    }
   ],
   "source": [
    "type(5>1)"
   ]
  },
  {
   "cell_type": "code",
   "execution_count": 4,
   "id": "ef729517",
   "metadata": {},
   "outputs": [
    {
     "data": {
      "text/plain": [
       "str"
      ]
     },
     "execution_count": 4,
     "metadata": {},
     "output_type": "execute_result"
    }
   ],
   "source": [
    "type('5')"
   ]
  },
  {
   "cell_type": "code",
   "execution_count": 5,
   "id": "12fab88a",
   "metadata": {},
   "outputs": [
    {
     "data": {
      "text/plain": [
       "int"
      ]
     },
     "execution_count": 5,
     "metadata": {},
     "output_type": "execute_result"
    }
   ],
   "source": [
    "type(5*2)"
   ]
  },
  {
   "cell_type": "code",
   "execution_count": 6,
   "id": "cba999cf",
   "metadata": {},
   "outputs": [
    {
     "data": {
      "text/plain": [
       "str"
      ]
     },
     "execution_count": 6,
     "metadata": {},
     "output_type": "execute_result"
    }
   ],
   "source": [
    "type('5'*2)"
   ]
  },
  {
   "cell_type": "code",
   "execution_count": 7,
   "id": "03825f59",
   "metadata": {},
   "outputs": [
    {
     "data": {
      "text/plain": [
       "str"
      ]
     },
     "execution_count": 7,
     "metadata": {},
     "output_type": "execute_result"
    }
   ],
   "source": [
    "type('5'+'2')"
   ]
  },
  {
   "cell_type": "code",
   "execution_count": 8,
   "id": "ca017b65",
   "metadata": {},
   "outputs": [
    {
     "data": {
      "text/plain": [
       "float"
      ]
     },
     "execution_count": 8,
     "metadata": {},
     "output_type": "execute_result"
    }
   ],
   "source": [
    "type(5/2)"
   ]
  },
  {
   "cell_type": "code",
   "execution_count": 9,
   "id": "b16bd3a4",
   "metadata": {},
   "outputs": [
    {
     "data": {
      "text/plain": [
       "int"
      ]
     },
     "execution_count": 9,
     "metadata": {},
     "output_type": "execute_result"
    }
   ],
   "source": [
    "type(5%2)"
   ]
  },
  {
   "cell_type": "code",
   "execution_count": 10,
   "id": "34aa448b",
   "metadata": {},
   "outputs": [
    {
     "data": {
      "text/plain": [
       "set"
      ]
     },
     "execution_count": 10,
     "metadata": {},
     "output_type": "execute_result"
    }
   ],
   "source": [
    "type({5,2,1})"
   ]
  },
  {
   "cell_type": "code",
   "execution_count": 11,
   "id": "a2961ef9",
   "metadata": {},
   "outputs": [
    {
     "data": {
      "text/plain": [
       "bool"
      ]
     },
     "execution_count": 11,
     "metadata": {},
     "output_type": "execute_result"
    }
   ],
   "source": [
    "type(5==3)"
   ]
  },
  {
   "cell_type": "code",
   "execution_count": 12,
   "id": "0fdb31f6",
   "metadata": {},
   "outputs": [
    {
     "data": {
      "text/plain": [
       "float"
      ]
     },
     "execution_count": 12,
     "metadata": {},
     "output_type": "execute_result"
    }
   ],
   "source": [
    "import math\n",
    "type(math.pi)"
   ]
  },
  {
   "cell_type": "markdown",
   "id": "5dbfe253",
   "metadata": {},
   "source": [
    "# Question 2"
   ]
  },
  {
   "cell_type": "markdown",
   "id": "beb890ed",
   "metadata": {},
   "source": [
    "## a"
   ]
  },
  {
   "cell_type": "code",
   "execution_count": 13,
   "id": "55c8d636",
   "metadata": {},
   "outputs": [
    {
     "name": "stdout",
     "output_type": "stream",
     "text": [
      "Number of letters: 34\n"
     ]
    }
   ],
   "source": [
    "w = 'Supercalifragilisticexpialidocious'\n",
    "no_l = len(w)\n",
    "print(\"Number of letters:\", no_l)\n"
   ]
  },
  {
   "cell_type": "markdown",
   "id": "40f78937",
   "metadata": {},
   "source": [
    "## b"
   ]
  },
  {
   "cell_type": "code",
   "execution_count": 25,
   "id": "fe405e71",
   "metadata": {},
   "outputs": [
    {
     "name": "stdout",
     "output_type": "stream",
     "text": [
      "The substring 'ice' is present in the word.\n"
     ]
    }
   ],
   "source": [
    "w = 'Supercalifragilisticexpialidocious'\n",
    "s = 'ice'\n",
    "if s in w:\n",
    "    print(\"The substring 'ice' is present in the word.\")\n",
    "else:\n",
    "    print(\"The substring 'ice' is not present in the word.\")\n"
   ]
  },
  {
   "cell_type": "markdown",
   "id": "af0374fb",
   "metadata": {},
   "source": [
    "## c"
   ]
  },
  {
   "cell_type": "code",
   "execution_count": 24,
   "id": "e5553834",
   "metadata": {},
   "outputs": [
    {
     "name": "stdout",
     "output_type": "stream",
     "text": [
      "The longest word(s) is/are: Supercalifragilisticexpialidocious, Bababadalgharaghtakamminarronnkonn\n"
     ]
    }
   ],
   "source": [
    "words = ['Supercalifragilisticexpialidocious', 'Honorificabilitudinitatibus', 'Bababadalgharaghtakamminarronnkonn']\n",
    "max_l = len(max(words, key=len))\n",
    "\n",
    "l = [word for word in words if len(word) == max_l]\n",
    "\n",
    "print(\"The longest word(s) is/are:\", \", \".join(l))\n",
    "\n",
    "\n"
   ]
  },
  {
   "cell_type": "markdown",
   "id": "a1617a5c",
   "metadata": {},
   "source": [
    "## d"
   ]
  },
  {
   "cell_type": "code",
   "execution_count": 26,
   "id": "c008d8d2",
   "metadata": {},
   "outputs": [
    {
     "name": "stdout",
     "output_type": "stream",
     "text": [
      "First composer in the dictionary: Bartok\n",
      "Last composer in the dictionary: Buxtehude\n"
     ]
    }
   ],
   "source": [
    "c = ['Berlioz', 'Borodin', 'Brian', 'Bartok', 'Bellini', 'Buxtehude', 'Bernstein']\n",
    "\n",
    "f_c = min(c)\n",
    "l_c = max(c)\n",
    "\n",
    "print(\"First composer in the dictionary:\", f_c)\n",
    "print(\"Last composer in the dictionary:\", l_c)\n"
   ]
  },
  {
   "cell_type": "markdown",
   "id": "2c1605bb",
   "metadata": {},
   "source": [
    "# Question 3"
   ]
  },
  {
   "cell_type": "code",
   "execution_count": 28,
   "id": "47434744",
   "metadata": {},
   "outputs": [
    {
     "name": "stdout",
     "output_type": "stream",
     "text": [
      "1.7320508075688772\n"
     ]
    }
   ],
   "source": [
    "import math\n",
    "\n",
    "def tArea(a, b, c):\n",
    "    s = (a + b + c) / 2\n",
    "    area = math.sqrt(s * (s - a) * (s - b) * (s - c))\n",
    "    return area\n",
    "\n",
    "area = tArea(2, 2, 2)\n",
    "print(area)"
   ]
  },
  {
   "cell_type": "markdown",
   "id": "acaa8815",
   "metadata": {},
   "source": [
    "# Question 4"
   ]
  },
  {
   "cell_type": "code",
   "execution_count": 32,
   "id": "c49395f0",
   "metadata": {},
   "outputs": [
    {
     "name": "stdout",
     "output_type": "stream",
     "text": [
      "Enter the number of elements to be stored in the array: 5\n",
      "element - 0 : 25\n",
      "element - 1 : 47\n",
      "element - 2 : 42\n",
      "element - 3 : 56\n",
      "element - 4 : 32\n",
      "The Even numbers are:\n",
      "42 56 32 \n",
      "The Odd numbers are:\n",
      "25 47 "
     ]
    }
   ],
   "source": [
    "no_e= int(input(\"Enter the number of elements to be stored in the array: \"))\n",
    "arr= []\n",
    "\n",
    "for i in range(no_e):\n",
    "    el= int(input(\"element - {} : \".format(i)))\n",
    "    arr.append(el)\n",
    "\n",
    "even = []\n",
    "odd = []\n",
    "\n",
    "for i in arr:\n",
    "    if i % 2 == 0:\n",
    "        even.append(i)\n",
    "    else:\n",
    "        odd.append(i)\n",
    "\n",
    "print(\"The Even numbers are:\")\n",
    "for i in even:\n",
    "    print(i, end = \" \")\n",
    "\n",
    "print(\"\\nThe Odd numbers are:\")\n",
    "for i in odd:\n",
    "    print(i, end=\" \")"
   ]
  },
  {
   "cell_type": "markdown",
   "id": "60713b13",
   "metadata": {},
   "source": [
    "# Question 5"
   ]
  },
  {
   "cell_type": "markdown",
   "id": "d50a603a",
   "metadata": {},
   "source": [
    "## a"
   ]
  },
  {
   "cell_type": "code",
   "execution_count": 37,
   "id": "293a28c6",
   "metadata": {},
   "outputs": [],
   "source": [
    "def inside(x, y, x1, y1, x2, y2):\n",
    "    if x1 <= x <= x2 and y1 <= y <= y2:\n",
    "        return True\n",
    "    else:\n",
    "        return False\n"
   ]
  },
  {
   "cell_type": "code",
   "execution_count": 38,
   "id": "7ca4928b",
   "metadata": {},
   "outputs": [
    {
     "name": "stdout",
     "output_type": "stream",
     "text": [
      "True\n"
     ]
    }
   ],
   "source": [
    "print(inside(1, 1, 0, 0, 2, 3)) \n"
   ]
  },
  {
   "cell_type": "code",
   "execution_count": 39,
   "id": "76846d45",
   "metadata": {},
   "outputs": [
    {
     "name": "stdout",
     "output_type": "stream",
     "text": [
      "False\n"
     ]
    }
   ],
   "source": [
    "print(inside(-1, -1, 0, 0, 2, 3))  "
   ]
  },
  {
   "cell_type": "markdown",
   "id": "6e28a25d",
   "metadata": {},
   "source": [
    "## b"
   ]
  },
  {
   "cell_type": "code",
   "execution_count": 42,
   "id": "c38d0648",
   "metadata": {},
   "outputs": [
    {
     "name": "stdout",
     "output_type": "stream",
     "text": [
      "False\n"
     ]
    }
   ],
   "source": [
    "r = inside(1, 1, 0.3, 0.5, 1.1, 0.7) and inside(1, 1, 0.5, 0.2, 1.1, 2)\n",
    "print(r)\n"
   ]
  },
  {
   "cell_type": "markdown",
   "id": "24624201",
   "metadata": {},
   "source": [
    "# Question 6"
   ]
  },
  {
   "cell_type": "code",
   "execution_count": 43,
   "id": "abca8a40",
   "metadata": {},
   "outputs": [],
   "source": [
    "def pig(w):\n",
    "    v = 'aeiou'\n",
    "    w = w.lower()\n",
    "    if w[0] in v:\n",
    "        return w + 'way'\n",
    "    else:\n",
    "        return w[1:] + w[0] + 'ay'\n",
    "    "
   ]
  },
  {
   "cell_type": "code",
   "execution_count": 44,
   "id": "cff2918a",
   "metadata": {},
   "outputs": [
    {
     "data": {
      "text/plain": [
       "'appyhay'"
      ]
     },
     "execution_count": 44,
     "metadata": {},
     "output_type": "execute_result"
    }
   ],
   "source": [
    "pig('happy')"
   ]
  },
  {
   "cell_type": "code",
   "execution_count": 45,
   "id": "c7d00ee9",
   "metadata": {},
   "outputs": [
    {
     "data": {
      "text/plain": [
       "'enterway'"
      ]
     },
     "execution_count": 45,
     "metadata": {},
     "output_type": "execute_result"
    }
   ],
   "source": [
    "pig('Enter')"
   ]
  },
  {
   "cell_type": "markdown",
   "id": "52c897d1",
   "metadata": {},
   "source": [
    "# Question 7"
   ]
  },
  {
   "cell_type": "code",
   "execution_count": 51,
   "id": "3cc733e4",
   "metadata": {},
   "outputs": [
    {
     "name": "stdout",
     "output_type": "stream",
     "text": [
      "There are 15 patients of blood type A.\n",
      "There is one patient of blood type B.\n",
      "There are 13 patients of blood type AB.\n",
      "There are 15 patients of blood type O.\n",
      "There are 0 patients of blood type OO.\n"
     ]
    }
   ],
   "source": [
    "def bldcount(name):\n",
    "    bc = {'A': 0, 'B': 0, 'AB': 0, 'O': 0, 'OO': 0}\n",
    "\n",
    "    with open(name, 'r') as file:\n",
    "        bt = file.read().split()\n",
    "\n",
    "    for blood_type in bt:\n",
    "        bc[blood_type] += 1\n",
    "\n",
    "    for blood_type, count in bc.items():\n",
    "        if count == 1:\n",
    "            print(\"There is one patient of blood type\", blood_type + '.')\n",
    "        else:\n",
    "            print(\"There are\", count, \"patients of blood type\", blood_type + '.')\n",
    "\n",
    "\n",
    "bldcount('bloodtype.txt')\n",
    "\n"
   ]
  },
  {
   "cell_type": "markdown",
   "id": "f36f5bb2",
   "metadata": {},
   "source": [
    "# Question 8"
   ]
  },
  {
   "cell_type": "code",
   "execution_count": 54,
   "id": "f48f93aa",
   "metadata": {},
   "outputs": [],
   "source": [
    "def curconv(cu, at):\n",
    "    with open('currency.txt', 'r') as file:\n",
    "        cr = file.readlines()\n",
    "\n",
    "    for rate in cr:\n",
    "        rate_parts = rate.split()\n",
    "        if rate_parts[0] == cu:\n",
    "            usd_at = float(rate_parts[1]) * at\n",
    "            return usd_at\n",
    "\n",
    "    return None\n"
   ]
  },
  {
   "cell_type": "code",
   "execution_count": 61,
   "id": "283c9129",
   "metadata": {},
   "outputs": [
    {
     "data": {
      "text/plain": [
       "122.96544"
      ]
     },
     "execution_count": 61,
     "metadata": {},
     "output_type": "execute_result"
    }
   ],
   "source": [
    "curconv('EUR', 100)"
   ]
  },
  {
   "cell_type": "code",
   "execution_count": 62,
   "id": "79c4fb9d",
   "metadata": {},
   "outputs": [
    {
     "data": {
      "text/plain": [
       "1.241401"
      ]
     },
     "execution_count": 62,
     "metadata": {},
     "output_type": "execute_result"
    }
   ],
   "source": [
    "curconv('JPY', 100)"
   ]
  },
  {
   "cell_type": "markdown",
   "id": "1e42832d",
   "metadata": {},
   "source": [
    "# Question 9"
   ]
  },
  {
   "cell_type": "markdown",
   "id": "edbbd618",
   "metadata": {},
   "source": [
    "1. Trying to add incompatible variables, as in \n",
    "adding 6 + ‘a’\n",
    "  - 'TypeError' (adding incompatible variables)\n",
    "  \n",
    "  \n",
    "2. Referring to the 12th item of a list that has only 10 \n",
    "items\n",
    "   - 'IndexError' (referring to an index out of range)\n",
    "   \n",
    "   \n",
    "3. Using a value that is out of range for a function’s \n",
    "input, such as calling math.sqrt(-1.0)\n",
    "   - 'ValueError' (using a value out of range for a function's input)\n",
    "   \n",
    "   \n",
    "4. Using an undeclared variable, such as print(x)\n",
    "when x has not been defined \n",
    "   - 'NameError' (using an undeclared variable)\n",
    "   \n",
    "   \n",
    "5. Trying to open a file that does not exist, such as \n",
    "mistyping the file name or looking in the wrong \n",
    "directory.\n",
    "   - 'FileNotFoundError' (trying to open a non-existent file)"
   ]
  },
  {
   "cell_type": "markdown",
   "id": "fa921d36",
   "metadata": {},
   "source": [
    "# Question 10"
   ]
  },
  {
   "cell_type": "code",
   "execution_count": 57,
   "id": "96214d31",
   "metadata": {},
   "outputs": [],
   "source": [
    "def frequencies(text):\n",
    "    ltrs = 'abcdefghijklmnopqrstuvwxyz'\n",
    "    lr_cts = [0] * 26\n",
    "\n",
    "    for char in text:\n",
    "        char = char.lower()\n",
    "        if char in ltrs:\n",
    "            index = ltrs.index(char)\n",
    "            lr_cts[index] += 1\n",
    "\n",
    "    return lr_cts\n"
   ]
  },
  {
   "cell_type": "code",
   "execution_count": 59,
   "id": "c0a09e82",
   "metadata": {},
   "outputs": [
    {
     "data": {
      "text/plain": [
       "[1, 1, 1, 3, 5, 1, 1, 2, 1, 0, 1, 0, 1, 2, 4, 0, 1, 2, 0, 3, 1, 0, 1, 1, 0, 0]"
      ]
     },
     "execution_count": 59,
     "metadata": {},
     "output_type": "execute_result"
    }
   ],
   "source": [
    "frequencies('The quick red fox got bored and went home.')\n"
   ]
  },
  {
   "cell_type": "code",
   "execution_count": 60,
   "id": "c58cdd7e",
   "metadata": {},
   "outputs": [
    {
     "data": {
      "text/plain": [
       "[1, 0, 0, 0, 1, 0, 0, 0, 0, 0, 0, 1, 0, 0, 0, 2, 0, 0, 0, 0, 0, 0, 0, 0, 0, 0]"
      ]
     },
     "execution_count": 60,
     "metadata": {},
     "output_type": "execute_result"
    }
   ],
   "source": [
    "frequencies('apple')"
   ]
  },
  {
   "cell_type": "code",
   "execution_count": null,
   "id": "b4ffc437",
   "metadata": {},
   "outputs": [],
   "source": []
  }
 ],
 "metadata": {
  "kernelspec": {
   "display_name": "Python 3 (ipykernel)",
   "language": "python",
   "name": "python3"
  },
  "language_info": {
   "codemirror_mode": {
    "name": "ipython",
    "version": 3
   },
   "file_extension": ".py",
   "mimetype": "text/x-python",
   "name": "python",
   "nbconvert_exporter": "python",
   "pygments_lexer": "ipython3",
   "version": "3.9.13"
  }
 },
 "nbformat": 4,
 "nbformat_minor": 5
}
